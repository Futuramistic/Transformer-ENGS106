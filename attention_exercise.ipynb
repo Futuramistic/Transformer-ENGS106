{
 "cells": [
  {
   "cell_type": "markdown",
   "metadata": {},
   "source": [
    "---------------\n",
    "ROMEO:\n",
    "And from the embracement be spokes to stand,\n",
    "As we shall breathest to the market-fairly maid\n",
    "So month in my father, I may see thee not my side\n",
    "And love the prisoner like a cradist of my daughter.\n",
    "---------------"
   ]
  },
  {
   "cell_type": "markdown",
   "metadata": {},
   "source": [
    "The above text is not a lost work of Shakespeare but a fully generated text by a GPT2-like model I trained on my laptop in less than 20 minutes. Today, in this tutorial, we will follow an implementation of the \"Attention Is All You Need\" paper, so that you can generate your own Shakespeare at home."
   ]
  }
 ],
 "metadata": {
  "language_info": {
   "name": "python"
  }
 },
 "nbformat": 4,
 "nbformat_minor": 2
}
